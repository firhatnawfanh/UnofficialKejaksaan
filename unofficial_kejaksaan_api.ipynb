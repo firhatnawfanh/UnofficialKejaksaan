{
 "metadata": {
  "name": "",
  "signature": "sha256:c82ee2c0e3cd006ea91bea9c048f15e12707c4f919ac98f9f699fb9532cfc850"
 },
 "nbformat": 3,
 "nbformat_minor": 0,
 "worksheets": [
  {
   "cells": [
    {
     "cell_type": "code",
     "collapsed": false,
     "input": [
      "from lxml import etree\n",
      "import ssl\n",
      "import urllib2\n",
      "\n",
      "from bs4 import BeautifulSoup as bs\n",
      "\n",
      "# download first page\n",
      "def load_page(url):\n",
      "    #join url and page\n",
      "    # have to use ssl to fix this \n",
      "    # http://stackoverflow.com/questions/27835619/ssl-certificate-verify-failed-error\n",
      "    context = ssl._create_unverified_context()\n",
      "    response = urllib2.urlopen(url, context=context)\n",
      "    html = response.read()\n",
      "    soup = bs(html)    \n",
      "    return soup\n",
      "\n",
      "def remove_double_whitespace(text):\n",
      "    return '\\n'.join(' '.join(line.split()) for line in text.split('\\n'))\n",
      "\n",
      "def convert_htmltable_to_dict(table_body):\n",
      "    # http://stackoverflow.com/questions/23377533/python-beautifulsoup-parsing-table\n",
      "    rows = table_body.find_all('tr')\n",
      "    data = []\n",
      "    for i_row, row in enumerate(rows):\n",
      "        cols = row.find_all('td')\n",
      "        parsed_cols = []\n",
      "        for i_ele, ele in enumerate(cols) :\n",
      "            # get links on row >= 2and last column\n",
      "            if (i_ele == len(cols)-1) and i_row > 1:\n",
      "                parsed_cols.append(ele.find('a').get('href'))               \n",
      "            else :\n",
      "                parsed_cols.append(remove_double_whitespace(ele.text.strip()))\n",
      "        data.append(parsed_cols) \n",
      "    return data\n",
      "\n",
      "def find_between( s, first, last ):\n",
      "    try:\n",
      "        start = s.index( first ) + len( first )\n",
      "        end = s.index( last, start )\n",
      "        return s[start:end]\n",
      "    except ValueError:\n",
      "        return \"\"\n",
      "\n",
      "def find_table(tags_soup):\n",
      "    # return table_soup\n",
      "    pass\n",
      "    \n",
      "#class PageLoader(object):\n",
      "    \n",
      "def parse_html(page_soup):\n",
      "    # find table\n",
      "    page_soup.find\n",
      "    pass\n",
      "\n",
      "class PageLoadError(Exception):\n",
      "    \"\"\"Error when loading page\"\"\"\n",
      "\n",
      "# berkas \n",
      "class Berkas(object):\n",
      "    base_url = 'https://www.kejaksaan.go.id'\n",
      "    \n",
      "    def __init__(self, data):\n",
      "        self.nomor_urut = data[0]\n",
      "        self.nomor_perkara = data[1]\n",
      "        self.nama_terdakwa = data[2] # parse the alias\n",
      "        self.tanggal_dakwaan = data[3] # convert to python date\n",
      "        self.wilayah_hukum = data[4] \n",
      "        self.detail_link = data[5]\n",
      "\n",
      "        self.url = self.base_url + self.detail_link\n",
      "\n",
      "    def convert_htmltable_to_dict(self, table_body):\n",
      "        # http://stackoverflow.com/questions/23377533/python-beautifulsoup-parsing-table\n",
      "        rows = table_body.find_all('tr')\n",
      "        data = []\n",
      "        for i_row, row in enumerate(rows):\n",
      "            cols = row.find_all('td')\n",
      "            parsed_cols = []\n",
      "            for i_ele, ele in enumerate(cols) :\n",
      "                parsed_cols.append(remove_double_whitespace(ele.text.strip()))\n",
      "            data.append(parsed_cols) \n",
      "        return data\n",
      "\n",
      "    def load_page(self):\n",
      "        self.page_html = load_page(self.url)\n",
      "        \n",
      "    def load_detail(self):\n",
      "        self.load_page()\n",
      "        cell = filter(lambda x : 'Nomor Perkara' in x.text, self.page_html.find_all('td'))\n",
      "        table = cell[2].parent.parent\n",
      "        self.table_dict = self.convert_htmltable_to_dict(table)\n",
      "        #return detail_data # instance dict, contain details\n",
      "        \n",
      "class Pidana(object):\n",
      "    base_url = 'https://www.kejaksaan.go.id'\n",
      "    api_url = '/berkas-dakwaan.php?'\n",
      "    \n",
      "    def __init__(self):\n",
      "        self.max_page = None\n",
      "        self.total_berkas = None\n",
      "    \n",
      "    def load_page(self, page_num=None):\n",
      "        self.daftar_berkas = []\n",
      "        \n",
      "        url = self.base_url + self.api_url + self.api_attribute\n",
      "        url_template = url + \"&hal=%s\"\n",
      "        \n",
      "        if page_num == 1:\n",
      "            url_dest = url_template % str(1)\n",
      "            self.parse_page( url_dest)\n",
      "        elif page_num == None:\n",
      "            url_dest = url_template % str(1)\n",
      "            self.parse_page(url_dest)\n",
      "            \n",
      "            # dont parse all page if no max page defined\n",
      "            if self.max_page is None:\n",
      "                for x in range(2, self.max_page):\n",
      "                    url_dest = url_template % str(x)\n",
      "                    self.parse_page(url_dest)\n",
      "            else:\n",
      "                raise LoadPageError\n",
      "        else :\n",
      "            url_dest = url_template % str(page_num)\n",
      "            self.parse_page(url_dest)\n",
      "        # TODO raise error when page not found\n",
      "            \n",
      "    def parse_page(self, url):\n",
      "        page_html = load_page(url)\n",
      "        \n",
      "        # parse table\n",
      "        filter_result = filter(lambda x:\"Total Data Berkas\" in x.text, phtml.find_all('td'))\n",
      "        table = filter_result[1].parent.parent\n",
      "        dict_result = convert_htmltable_to_dict(table)\n",
      "        \n",
      "        # find total_berkas\n",
      "        if self.total_berkas is None:\n",
      "            self.total_berkas = int(find_between(dict_result[0][0],':','perkara').strip())\n",
      "        \n",
      "        # find max_page\n",
      "        if self.max_page is None:\n",
      "            last_page_url = filter(lambda x:\">>\" in x.text, phtml.find_all('a',{'class':'mn2'}))\n",
      "            self.max_page = find_between(last_page_url[0].get('href'),'hal=','&')            \n",
      "        \n",
      "        for y,x in enumerate(dict_result):\n",
      "            if y>1 : # ignore the first two row\n",
      "                self.daftar_berkas.append(Berkas(x)) \n",
      "\n",
      "class PidanaUmum(Pidana):\n",
      "    api_attribute = 'unt=1'\n",
      "\n",
      "    def __ini__(self):\n",
      "        super(PidanaUmum, self).__init__()\n",
      "\n",
      "class PidanaKhusus(Pidana):\n",
      "    api_attribute = 'unt=2'\n",
      "    \n",
      "    def __ini__(self):\n",
      "        super(PidanaKhusus, self).__init__()"
     ],
     "language": "python",
     "metadata": {},
     "outputs": [],
     "prompt_number": 360
    },
    {
     "cell_type": "code",
     "collapsed": false,
     "input": [
      "pu = PidanaUmum()\n"
     ],
     "language": "python",
     "metadata": {},
     "outputs": [],
     "prompt_number": 358
    },
    {
     "cell_type": "code",
     "collapsed": false,
     "input": [
      "pu.load_page(30)"
     ],
     "language": "python",
     "metadata": {},
     "outputs": [],
     "prompt_number": 359
    },
    {
     "cell_type": "code",
     "collapsed": false,
     "input": [
      "phtml = load_page('https://www.kejaksaan.go.id/berkas-dakwaan.php?hal=1&unt=1')\n"
     ],
     "language": "python",
     "metadata": {},
     "outputs": [],
     "prompt_number": 63
    },
    {
     "cell_type": "code",
     "collapsed": false,
     "input": [
      "last_page_url = filter(lambda x:\">>\" in x.text, phtml.find_all('a',{'class':'mn2'}))\n",
      "find_between(last_page_url[0].get('href'),'hal=','&')"
     ],
     "language": "python",
     "metadata": {},
     "outputs": [
      {
       "metadata": {},
       "output_type": "pyout",
       "prompt_number": 296,
       "text": [
        "'12'"
       ]
      }
     ],
     "prompt_number": 296
    },
    {
     "cell_type": "code",
     "collapsed": false,
     "input": [
      "filter_result = filter(lambda x:\"Total Data Berkas\" in x.text, phtml.find_all('td'))\n"
     ],
     "language": "python",
     "metadata": {},
     "outputs": [],
     "prompt_number": 64
    },
    {
     "cell_type": "code",
     "collapsed": false,
     "input": [
      "table = filter_result[1].parent.parent\n",
      "#filter_result[1].parent.name\n",
      "dict_result = convert_htmltable_to_dict(table)\n",
      "from pprint import pprint\n",
      "pprint(dict_result[:3])"
     ],
     "language": "python",
     "metadata": {},
     "outputs": [
      {
       "output_type": "stream",
       "stream": "stdout",
       "text": [
        "[[u'Total Data Berkas Dakwaan\\nPidana Umum :\\n221 perkara'],\n",
        " [u'No. Urut',\n",
        "  u'No. Perkara',\n",
        "  u'Nama Terdakwa',\n",
        "  u'Tanggal Dakwaan',\n",
        "  u'Wilayah Hukum',\n",
        "  u'Aksi'],\n",
        " [u'1',\n",
        "  u'PDM-34/JKTUT/2014',\n",
        "  u'ADE SUNARYO BIN AJU',\n",
        "  u'29-01-2014',\n",
        "  u'KEJAKSAAN NEGERI JAKARTA UTARA',\n",
        "  './berkas-dakwaan.php?idd=368&unt=1']]\n"
       ]
      }
     ],
     "prompt_number": 141
    },
    {
     "cell_type": "code",
     "collapsed": false,
     "input": [
      "daftar_berkas = []\n",
      "for y,x in enumerate(dict_result):\n",
      "    if y>1 :\n",
      "        daftar_berkas.append(Berkas(x)) \n",
      "        \n",
      "berkas = daftar_berkas[0]\n",
      "berkas.load_page()\n",
      "\n",
      "print daftar_berkas[:2]"
     ],
     "language": "python",
     "metadata": {},
     "outputs": [
      {
       "output_type": "stream",
       "stream": "stdout",
       "text": [
        "[<__main__.Berkas object at 0xae2c1e4c>, <__main__.Berkas object at 0xae2c132c>]\n"
       ]
      }
     ],
     "prompt_number": 284
    },
    {
     "cell_type": "code",
     "collapsed": false,
     "input": [
      "berkas.url"
     ],
     "language": "python",
     "metadata": {},
     "outputs": [
      {
       "metadata": {},
       "output_type": "pyout",
       "prompt_number": 270,
       "text": [
        "'https://www.kejaksaan.go.id./berkas-dakwaan.php?idd=368&unt=1'"
       ]
      }
     ],
     "prompt_number": 270
    },
    {
     "cell_type": "code",
     "collapsed": false,
     "input": [
      "cell = filter(lambda x : 'Nomor Perkara' in x.text, berkas.page_html.find_all('td'))\n",
      "table = cell[2].parent.parent\n",
      "table_dict = berkas.convert_htmltable_to_dict(table)"
     ],
     "language": "python",
     "metadata": {},
     "outputs": [],
     "prompt_number": 274
    },
    {
     "cell_type": "code",
     "collapsed": false,
     "input": [
      "table_dict"
     ],
     "language": "python",
     "metadata": {},
     "outputs": [
      {
       "metadata": {},
       "output_type": "pyout",
       "prompt_number": 275,
       "text": [
        "[[u'Nomor Perkara', u'PDM-34/JKTUT/2014'],\n",
        " [u'Jenis Dakwaan', u'Pidana Umum'],\n",
        " [u'Wilayah Hukum', u'KEJAKSAAN NEGERI JAKARTA UTARA'],\n",
        " [u'Nama JPU',\n",
        "  u'JUNIATI TINA MELINDA|230027078|Jaksa Fungsional|III/c (Jaksa Pratama)#MALINI SIANTURI|230022872|Jaksa Fungsional|III/d (Jaksa Muda)#'],\n",
        " [u'Tanggal Dakwaan', u'29-01-2014'],\n",
        " [u'Summary Dakwaan',\n",
        "  u'TINDAK PIDANA PENCURIAN DENAGN PEMBERTAN YANG\\nTERJADI PADA HARI SELASA TANGGAL 18 JUNI 2013\\nSEKIRA PUKUL 07.30 WIB BERTEMPAT JL. PADEMANGAN\\nIIA GG.3 NO.21A RT.006/006 KEL. PADEMANGAN KEC.\\nPADEMANGAN JAKARTA UTARA'],\n",
        " [u'Tuntutan', ''],\n",
        " [u'Identitas tersangka/terdakwa'],\n",
        " [u'Terdakwa 1', ''],\n",
        " [u'Nama', u'ADE SUNARYO BIN AJU'],\n",
        " [u'Tempat/tanggal lahir', u'CIANJUR / 02-06-1980'],\n",
        " [u'Jenis Kelamin', u'LAKI-LAKI'],\n",
        " [u'Warga negara', u'Indonesia'],\n",
        " [u'Tempat tinggal',\n",
        "  u'JL. GUNG BATU RT.14/004 KEL. SINARGALIH KEC. SINDANG BARAT KAB. CIANJUR JAWA BARAT'],\n",
        " [u'Agama', u'ISLAM'],\n",
        " [u'Pekerjaan', u'WIRASASTA'],\n",
        " [u'Pendidikan', u'SMA/SLTA'],\n",
        " [u'Amar Putusan PN',\n",
        "  u'PIDANA BADAN 1 TAHUN 6 BULAN 0 HARI BIAYA PERKARA SEBESAR Rp 5000'],\n",
        " [u'Status', u'KEKUATAN HUKUM TETAP']]"
       ]
      }
     ],
     "prompt_number": 275
    },
    {
     "cell_type": "code",
     "collapsed": false,
     "input": [
      "berkas.load_page()"
     ],
     "language": "python",
     "metadata": {},
     "outputs": [],
     "prompt_number": 279
    }
   ],
   "metadata": {}
  }
 ]
}